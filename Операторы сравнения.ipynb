{
 "cells": [
  {
   "cell_type": "markdown",
   "metadata": {},
   "source": [
    "### Основы: Операторы сравнения & логические операторы [Домашнее задание]\n",
    "\n",
    "Практика использования операторов сравнения & логических операторов."
   ]
  },
  {
   "cell_type": "code",
   "execution_count": 1,
   "metadata": {},
   "outputs": [],
   "source": [
    "num1 = 15\n",
    "num2 = 15.0\n",
    "num3 = 13\n",
    "str1 = \"brad\"\n",
    "str2 = \"BRAD\"\n",
    "str3 = \"Hello World\""
   ]
  },
  {
   "cell_type": "markdown",
   "metadata": {},
   "source": [
    "### Каковы результаты следующих строк кода?\n",
    "```\n",
    "print(num1 > num2)\n",
    "print(num2 >= num3)\n",
    "print(num1 == num3)\n",
    "\n",
    "print(str1 == str2)\n",
    "print(str1 > str2)\n",
    "print(str3 < str2)\n",
    "\n",
    "print(num1 < num2 or num2 > num3)\n",
    "print(num1 < num2 or str1 > str3)\n",
    "print(num1 <= num2 >= num3)\n",
    "\n",
    "print(False or False or False or True)\n",
    "print((False or True) and False)\n",
    "print(True and num1 <= num2)\n",
    "print(not num1 >= num2 or str1 == str2)\n",
    "```"
   ]
  },
  {
   "cell_type": "markdown",
   "metadata": {},
   "source": [
    "Теперь скопируйте код и выведите результаты этих операций.\n",
    "Результаты совпадают с вашими прогнозами?"
   ]
  },
  {
   "cell_type": "code",
   "execution_count": 3,
   "metadata": {},
   "outputs": [],
   "source": [
    "# Начало вашего кода \n",
    "\n",
    "# Конец вашего кода"
   ]
  },
  {
   "cell_type": "markdown",
   "metadata": {},
   "source": [
    "### Ожидаемые результаты:\n",
    "```\n",
    "False\n",
    "True\n",
    "False\n",
    "False\n",
    "True\n",
    "False\n",
    "True\n",
    "True\n",
    "True\n",
    "True\n",
    "False\n",
    "True\n",
    "False\n",
    "```"
   ]
  },
  {
   "cell_type": "markdown",
   "metadata": {},
   "source": [
    "**Дополнительный вопрос: Как работают операторы сравнения на строках (strings)?**"
   ]
  }
 ],
 "metadata": {
  "kernelspec": {
   "display_name": "Python 3",
   "language": "python",
   "name": "python3"
  },
  "language_info": {
   "codemirror_mode": {
    "name": "ipython",
    "version": 3
   },
   "file_extension": ".py",
   "mimetype": "text/x-python",
   "name": "python",
   "nbconvert_exporter": "python",
   "pygments_lexer": "ipython3",
   "version": "3.7.3"
  }
 },
 "nbformat": 4,
 "nbformat_minor": 2
}
