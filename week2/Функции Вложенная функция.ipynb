{
 "cells": [
  {
   "cell_type": "markdown",
   "metadata": {},
   "source": [
    "### Функции: Вложенная функция [Домашнее задание]"
   ]
  },
  {
   "cell_type": "markdown",
   "metadata": {},
   "source": [
    "Используя то, что вы узнали из этой лекции, напишите функцию polynomial(n, coef), которая будет вычислять многочлен от одной переменной.\n",
    "\n",
    "$$P_n(x) = a_0x^0 + a_1x^1 + a_2x^2 + ... a_nx^n$$\n",
    "\n",
    "Ваша реализация функции многочлена должна принимать любое положительное целое число n и список coef, который будет удовлетворять свойствам многочлена с одной переменной.\n",
    "\n",
    "**Примечание: любое целое число в степени 0 равно 1.**\n",
    "$$ x^0=1 $$\n",
    "\n",
    "\n"
   ]
  },
  {
   "cell_type": "markdown",
   "metadata": {},
   "source": [
    "### Например:\n",
    "\n",
    "1. \n",
    "Если n = 2 и coef = [1,2,3]. Это означает, что полином имеет следующую форму:\n",
    "\n",
    "$$P_2(x) = 1 + 2x + 3x^2$$\n",
    "\n",
    "   Затем вам нужно передать аргумент x, чтобы вычислить $P_2(x)$, следующим образом:\n",
    "\n",
    "$$P_2(x=0) = 1 + 2\\times0 + 3\\times0^2 = 1$$\n",
    "\n",
    "$$P_2(x=1) = 1 + 2\\times1 + 3\\times1^2 = 6$$\n",
    "\n",
    "$$P_2(x=2) = 1 + 2\\times2 + 3\\times2^2 = 17$$\n",
    "\n",
    "2. \n",
    "Если n = 3 и coef = [10,-2,10,-1]. Это означает, что полином имеет следующую форму:\n",
    "\n",
    "$$P_3(x) = 10 + (-2)x + 10x^2 + (-1)x^3$$\n",
    "\n",
    "   Затем вам нужно передать аргумент x, чтобы вычислить $P_3(x)$, следующим образом:\n",
    "\n",
    "$$P_3(x=0) = 10 + (-2)\\times0 + 10\\times0^2 + (-1)\\times0^3 = 10$$\n",
    "\n",
    "$$P_3(x=1) = 10 + (-2)\\times1 + 10\\times1^2 + (-1)\\times1^3 = 17$$\n",
    "\n",
    "$$P_3(x=2) = 10 + (-2)\\times2 + 10\\times2^2 + (-1)\\times2^3 = 38$$\n"
   ]
  },
  {
   "cell_type": "code",
   "execution_count": null,
   "metadata": {},
   "outputs": [],
   "source": [
    "def polynomial(n, coef):\n",
    "    # Начало вашего кода    \n",
    "\n",
    "    # Конец вашего кода"
   ]
  },
  {
   "cell_type": "code",
   "execution_count": null,
   "metadata": {},
   "outputs": [],
   "source": [
    "n = 2\n",
    "coef = [1,2,3]\n",
    "pol2 = polynomial(n=n, coef=coef)\n",
    "print(type(pol2))\n",
    "for i in range(3):\n",
    "    print(pol2(i))"
   ]
  },
  {
   "cell_type": "markdown",
   "metadata": {},
   "source": [
    "### Ожидаемый результат:\n",
    "```\n",
    "<class 'function'>\n",
    "1\n",
    "6\n",
    "17\n",
    "```"
   ]
  },
  {
   "cell_type": "code",
   "execution_count": null,
   "metadata": {},
   "outputs": [],
   "source": [
    "n = 3\n",
    "coef = [1,2,3,4]\n",
    "pol3 = polynomial(n=n, coef=coef)\n",
    "print(type(pol3))\n",
    "for i in range(3):\n",
    "    print(pol3(i))"
   ]
  },
  {
   "cell_type": "markdown",
   "metadata": {},
   "source": [
    "### Ожидаемый результат:\n",
    "```\n",
    "<class 'function'>\n",
    "1\n",
    "10\n",
    "49\n",
    "```"
   ]
  }
 ],
 "metadata": {
  "kernelspec": {
   "display_name": "Python 3",
   "language": "python",
   "name": "python3"
  },
  "language_info": {
   "codemirror_mode": {
    "name": "ipython",
    "version": 3
   },
   "file_extension": ".py",
   "mimetype": "text/x-python",
   "name": "python",
   "nbconvert_exporter": "python",
   "pygments_lexer": "ipython3",
   "version": "3.6.5"
  }
 },
 "nbformat": 4,
 "nbformat_minor": 2
}
