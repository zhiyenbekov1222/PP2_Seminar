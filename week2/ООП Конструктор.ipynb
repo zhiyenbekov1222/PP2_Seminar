{
 "cells": [
  {
   "cell_type": "markdown",
   "metadata": {},
   "source": [
    "### ООП: Конструктор [Домашнее задание]"
   ]
  },
  {
   "cell_type": "markdown",
   "metadata": {},
   "source": [
    "Создайте класс **Person**. Он должен содержать атрибут класса «count» (который покажет количество созданных объектов) и атрибуты экземпляра, такие как имя, фамилия, возраст, занятость, пол, национальность. Также определите методы, такие как **year_born(cur_year)**, **get_name()**, **get_nationality()**, **get_age()**, **get_occupation()**. Обратите внимание, что метод **year_born(cur_year)** возвращает год рождения человека. \n",
    "\n",
    "\n",
    "**Не забудьте использовать конструктор.**"
   ]
  },
  {
   "cell_type": "code",
   "execution_count": null,
   "metadata": {},
   "outputs": [],
   "source": [
    "class Person:\n",
    "    # Начало вашего кода \n",
    "    \n",
    "    # Конец вашего кода"
   ]
  },
  {
   "cell_type": "code",
   "execution_count": null,
   "metadata": {},
   "outputs": [],
   "source": [
    "person1 = Person(name=\"Brad\", family_name=\"Pitt\", age=50, occupation=\"actor\", nationality=\"American\")"
   ]
  },
  {
   "cell_type": "code",
   "execution_count": null,
   "metadata": {},
   "outputs": [],
   "source": [
    "year_born = person1.year_born(cur_year=2019)"
   ]
  },
  {
   "cell_type": "markdown",
   "metadata": {},
   "source": [
    "### Ожидаемый результат:\n",
    "```\n",
    "Brad Pitt was born in 1969\n",
    "```"
   ]
  },
  {
   "cell_type": "code",
   "execution_count": null,
   "metadata": {},
   "outputs": [],
   "source": [
    "name = person1.get_name()\n",
    "age = person1.get_age()\n",
    "nationality = person1.get_nationality()\n",
    "occupation = person1.get_occupation()"
   ]
  },
  {
   "cell_type": "code",
   "execution_count": null,
   "metadata": {},
   "outputs": [],
   "source": [
    "print(year_born)\n",
    "print(name)\n",
    "print(age)\n",
    "print(nationality)\n",
    "print(occupation)\n",
    "print(person1.count)"
   ]
  },
  {
   "cell_type": "markdown",
   "metadata": {},
   "source": [
    "### Ожидаемый результат:\n",
    "```\n",
    "1969\n",
    "Brad Pitt\n",
    "50\n",
    "American\n",
    "actor\n",
    "1\n",
    "```"
   ]
  },
  {
   "cell_type": "code",
   "execution_count": null,
   "metadata": {},
   "outputs": [],
   "source": [
    "person2 = Person(name=\"Donald\", family_name=\"Trump\", age=70, occupation=\"president\", nationality=\"American\")"
   ]
  },
  {
   "cell_type": "code",
   "execution_count": null,
   "metadata": {},
   "outputs": [],
   "source": [
    "year_born = person2.year_born(cur_year=2019)"
   ]
  },
  {
   "cell_type": "markdown",
   "metadata": {},
   "source": [
    "### Ожидаемый результат:\n",
    "```\n",
    "Donald Trump was born in 1949\n",
    "```"
   ]
  },
  {
   "cell_type": "code",
   "execution_count": null,
   "metadata": {},
   "outputs": [],
   "source": [
    "name = person2.get_name()\n",
    "age = person2.get_age()\n",
    "nationality = person2.get_nationality()\n",
    "occupation = person2.get_occupation()"
   ]
  },
  {
   "cell_type": "code",
   "execution_count": null,
   "metadata": {},
   "outputs": [],
   "source": [
    "print(year_born)\n",
    "print(name)\n",
    "print(age)\n",
    "print(nationality)\n",
    "print(occupation)\n",
    "print(person1.count)"
   ]
  },
  {
   "cell_type": "markdown",
   "metadata": {},
   "source": [
    "### Ожидаемый результат:\n",
    "```\n",
    "1949\n",
    "Donald Trump\n",
    "70\n",
    "American\n",
    "president\n",
    "2\n",
    "```"
   ]
  }
 ],
 "metadata": {
  "kernelspec": {
   "display_name": "Python 3",
   "language": "python",
   "name": "python3"
  },
  "language_info": {
   "codemirror_mode": {
    "name": "ipython",
    "version": 3
   },
   "file_extension": ".py",
   "mimetype": "text/x-python",
   "name": "python",
   "nbconvert_exporter": "python",
   "pygments_lexer": "ipython3",
   "version": "3.6.5"
  }
 },
 "nbformat": 4,
 "nbformat_minor": 2
}
